{
  "nbformat": 4,
  "nbformat_minor": 0,
  "metadata": {
    "colab": {
      "provenance": []
    },
    "kernelspec": {
      "name": "python3",
      "display_name": "Python 3"
    },
    "language_info": {
      "name": "python"
    }
  },
  "cells": [
    {
      "cell_type": "markdown",
      "source": [
        "## Enviroment Setup\n",
        "Enviroment Setup was created in anaconda, and it is important as it is good practice in Machine Learning and Deep Learning as it is benificial for complex projects like training YOLOv8 models.\n",
        "\n",
        "It is benifical because:\n",
        "* Having an isolated enviroment helps keep it seperate from other projects and allows YOLOv8 have its own dependicies.\n",
        "\n",
        "Orginally I decided to use Google Colab to train Yolov8, but because my dataset is so big, using Google Colab is a lot slower as it uses the cloud.\n",
        "\n",
        "So train locally:\n",
        "* I set up an conda enviroment in anaconda prompt.\n",
        "* Setting up CUDA for GPU training had it's issues but eventually got the versions matched up.\n",
        "![image.png](attachment:image.png)\n",
        "\n",
        "* First I was using Juptyer Notebook but the enviroment was very slow to run, so I switched to VSCode and added my enviroment to VSCode as it is easy to do so."
      ],
      "metadata": {
        "id": "n10PlAgW7iU-"
      }
    },
    {
      "cell_type": "code",
      "execution_count": null,
      "metadata": {
        "id": "dFSF88sM7Jfs"
      },
      "outputs": [],
      "source": [
        "#This shows that YOLOv8 can now train on the GPU and the enviroment is offically set up.\n",
        "import torch\n",
        "\n",
        "# Check if CUDA (GPU support) is available\n",
        "if torch.cuda.is_available():\n",
        "    # Get the number of available GPUs\n",
        "    print(torch.cuda.device_count(), \"GPU(s) available.\")\n",
        "    # Print the name of the current GPU\n",
        "    print(\"GPU:\", torch.cuda.get_device_name(0))\n",
        "else:\n",
        "    print(\"CUDA is not available. Training will be performed on CPU.\")"
      ]
    },
    {
      "cell_type": "markdown",
      "source": [
        "## Pre-Processing and Augmentation\n",
        "Pre-processing and Augmentation was done on Roboflow but first the dataset needed to be labelled or the dataset would bave to be manually annotated.\n",
        "\n",
        "Here is the code I used to label my dataset:\n",
        "\n",
        "![image.png](attachment:image.png)\n",
        "This automatically labels my dataset by looping through the dataset images then creating a txt file that labels the image either a Structural-Crack or No-Structural-Crack.\n",
        "\n",
        "Note: The reason it is not in this file is because it was done on Google Colab originally in a different file.\n",
        "\n",
        "After the dataset was labelled it was time to pick Pre-Processing and Augmentation techniques. Here are the techniques I chose:\n",
        "\n",
        "![image-2.png](attachment:image-2.png)"
      ],
      "metadata": {
        "id": "P4-JhKmK7rJJ"
      }
    },
    {
      "cell_type": "code",
      "source": [
        "import torch\n",
        "import ultralytics as ultralytics\n",
        "from ultralytics import YOLO, utils\n",
        "from IPython.display import Image\n",
        "ultralytics.checks()"
      ],
      "metadata": {
        "id": "gctGcp527r_G"
      },
      "execution_count": null,
      "outputs": []
    },
    {
      "cell_type": "markdown",
      "source": [
        "## 1 EPOCH Training and Results\n",
        "* 1 EPOCH training was just to test how YOLOv8 trains locally. How it runs on my PC and is there any specs slowing down the training.\n",
        "* It seems that my RAM is capped, although its still training at a good pace. It is being limited RAM."
      ],
      "metadata": {
        "id": "kFuojlHk7x8u"
      }
    },
    {
      "cell_type": "code",
      "source": [
        "img = Image.open('C:/Windows/System32/runs/detect/train21/F1_curve.png')\n",
        "plt.imshow(img)\n",
        "plt.show()"
      ],
      "metadata": {
        "id": "oJEp41M07ynY"
      },
      "execution_count": null,
      "outputs": []
    },
    {
      "cell_type": "code",
      "source": [
        "img = Image.open('C:/Windows/System32/runs/detect/train21/F1_curve.png')\n",
        "plt.imshow(img)\n",
        "plt.show()"
      ],
      "metadata": {
        "id": "yTnXAm098Dn5"
      },
      "execution_count": null,
      "outputs": []
    },
    {
      "cell_type": "markdown",
      "source": [
        "## 10 EPOCH Training"
      ],
      "metadata": {
        "id": "oow4AQ0z8Hrk"
      }
    },
    {
      "cell_type": "code",
      "source": [
        "#I download the dataset from roboflow and in the Roboflow it allows you to download it in YOLOv8 format.\n",
        "# After importing ultralitics and cloning the YOLOv8 repo I use this command with the path to my dataset to train the model.\n",
        "!yolo task=detect device=\"cuda:0\" mode=train model=yolov8s.pt data=\"E:\\Final Year Project.v3i.yolov8\\data.yaml\" epochs=10 imgsz=650 plots=True"
      ],
      "metadata": {
        "id": "zOm8QUSm8F6j"
      },
      "execution_count": null,
      "outputs": []
    },
    {
      "cell_type": "markdown",
      "source": [
        "## 10 EPOCH Prediction"
      ],
      "metadata": {
        "id": "qk0cJGGp8SJz"
      }
    },
    {
      "cell_type": "code",
      "source": [
        "!yolo predict model=yolov8n.pt model=\"C:\\Windows\\System32\\00FinalYearProject\\runs\\detect\\10EpochTrain\\weights\\best.pt\" conf=0.60 source=\"C:/Users/aaron/OneDrive/Desktop/test_images\""
      ],
      "metadata": {
        "id": "ms2BZiAK8UsV"
      },
      "execution_count": null,
      "outputs": []
    },
    {
      "cell_type": "code",
      "source": [
        "from matplotlib import pyplot as plt\n",
        "from PIL import Image\n",
        "\n",
        "img = Image.open('C:/Windows/System32/00FinalYearProject/runs/detect/predict/crack2.jpg')\n",
        "plt.imshow(img)\n",
        "plt.show()"
      ],
      "metadata": {
        "id": "uyCBryu-8XkG"
      },
      "execution_count": null,
      "outputs": []
    },
    {
      "cell_type": "markdown",
      "source": [
        "## 10 EPOCHS results"
      ],
      "metadata": {
        "id": "l-T8f0JL8cJb"
      }
    },
    {
      "cell_type": "code",
      "source": [
        "from matplotlib import pyplot as plt\n",
        "from PIL import Image\n",
        "\n",
        "img = Image.open('C:/Windows/System32/00FinalYearProject/runs/detect/10EpochTrain/results.png')\n",
        "plt.imshow(img)\n",
        "plt.show()"
      ],
      "metadata": {
        "id": "v-S5lfpM8cuh"
      },
      "execution_count": null,
      "outputs": []
    },
    {
      "cell_type": "code",
      "source": [
        "img = Image.open('C:/Windows/System32/00FinalYearProject/runs/detect/10EpochTrain/F1_curve.png')\n",
        "plt.imshow(img)\n",
        "plt.show()"
      ],
      "metadata": {
        "id": "Hnsuo-sa8fO8"
      },
      "execution_count": null,
      "outputs": []
    },
    {
      "cell_type": "markdown",
      "source": [
        "## 15 EPOCHS Training and Results"
      ],
      "metadata": {
        "id": "JKBQphQy8iFX"
      }
    },
    {
      "cell_type": "code",
      "source": [
        "!yolo task=detect device=\"cuda:0\" mode=train model=yolov8s.pt data=\"E:\\Final Year Project.v3i.yolov8\\data.yaml\" epochs=15 imgsz=650 plots=True"
      ],
      "metadata": {
        "id": "6jSW4eQ48hqp"
      },
      "execution_count": null,
      "outputs": []
    },
    {
      "cell_type": "markdown",
      "source": [
        "## 15 EPOCH Prediction"
      ],
      "metadata": {
        "id": "yFp--8dl8nxS"
      }
    },
    {
      "cell_type": "code",
      "source": [
        "!yolo predict model=yolov8n.pt model=\"C:\\Windows\\System32\\00FinalYearProject\\runs\\detect\\15EpochTrain\\weights\\best.pt\" conf=0.60 source=\"C:/Users/aaron/OneDrive/Desktop/test_images\""
      ],
      "metadata": {
        "id": "R8T2g_la8li3"
      },
      "execution_count": null,
      "outputs": []
    },
    {
      "cell_type": "code",
      "source": [
        "img = Image.open('C:/Windows/System32/00FinalYearProject/runs/detect/predict2/crack2.jpg')\n",
        "plt.imshow(img)\n",
        "plt.show()"
      ],
      "metadata": {
        "id": "LSwEUjCM8p3q"
      },
      "execution_count": null,
      "outputs": []
    },
    {
      "cell_type": "markdown",
      "source": [
        "## 15 Epoch Results"
      ],
      "metadata": {
        "id": "-Z8aqhNs8sJI"
      }
    },
    {
      "cell_type": "code",
      "source": [
        "img = Image.open('C:/Windows/System32/00FinalYearProject/runs/detect/15EpochTrain/results.png')\n",
        "plt.imshow(img)\n",
        "plt.show()"
      ],
      "metadata": {
        "id": "VULNNUaA8tws"
      },
      "execution_count": null,
      "outputs": []
    },
    {
      "cell_type": "code",
      "source": [
        "img = Image.open('C:/Windows/System32/00FinalYearProject/runs/detect/15EpochTrain/F1_curve.png')\n",
        "plt.imshow(img)\n",
        "plt.show()"
      ],
      "metadata": {
        "id": "Q275tcQ88ve-"
      },
      "execution_count": null,
      "outputs": []
    }
  ]
}